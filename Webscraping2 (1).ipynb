{
 "cells": [
  {
   "cell_type": "markdown",
   "id": "035ddddb-82df-4d35-b972-768785b18173",
   "metadata": {},
   "source": [
    "## Webscraping part 2"
   ]
  },
  {
   "cell_type": "code",
   "execution_count": 2,
   "id": "435563b5-3b90-48f0-8cb6-1ea57cc70267",
   "metadata": {},
   "outputs": [],
   "source": [
    "import pandas as pd\n",
    "import requests\n",
    "from bs4 import BeautifulSoup"
   ]
  },
  {
   "cell_type": "code",
   "execution_count": 8,
   "id": "76305788-2458-467a-8c59-926800c9c8a8",
   "metadata": {},
   "outputs": [],
   "source": [
    "url = 'https://en.wikipedia.org/wiki/Table_(information)'\n",
    "web = requests.get(url)\n",
    "soup = BeautifulSoup(web.text, 'html')"
   ]
  },
  {
   "cell_type": "code",
   "execution_count": null,
   "id": "626b60b3-6782-4fd2-9184-6dd038c0c7c0",
   "metadata": {},
   "outputs": [],
   "source": []
  },
  {
   "cell_type": "code",
   "execution_count": 12,
   "id": "5cdda24f-dd91-4a81-a742-21ff35d584f7",
   "metadata": {},
   "outputs": [],
   "source": [
    "table = soup.find('table')\n",
    "\n",
    "table_tittle = [header.text.strip() for header in table.find_all('th')]\n",
    "table_tittle_pd = pd.DataFrame(columns=table_tittle)"
   ]
  },
  {
   "cell_type": "code",
   "execution_count": 14,
   "id": "2861e4be-ef1c-4f87-b9c7-dcb8eccbb3ed",
   "metadata": {},
   "outputs": [
    {
     "data": {
      "text/html": [
       "<div>\n",
       "<style scoped>\n",
       "    .dataframe tbody tr th:only-of-type {\n",
       "        vertical-align: middle;\n",
       "    }\n",
       "\n",
       "    .dataframe tbody tr th {\n",
       "        vertical-align: top;\n",
       "    }\n",
       "\n",
       "    .dataframe thead th {\n",
       "        text-align: right;\n",
       "    }\n",
       "</style>\n",
       "<table border=\"1\" class=\"dataframe\">\n",
       "  <thead>\n",
       "    <tr style=\"text-align: right;\">\n",
       "      <th></th>\n",
       "      <th>First name</th>\n",
       "      <th>Last name</th>\n",
       "      <th>Age</th>\n",
       "      <th>Gender</th>\n",
       "    </tr>\n",
       "  </thead>\n",
       "  <tbody>\n",
       "  </tbody>\n",
       "</table>\n",
       "</div>"
      ],
      "text/plain": [
       "Empty DataFrame\n",
       "Columns: [First name, Last name, Age, Gender]\n",
       "Index: []"
      ]
     },
     "execution_count": 14,
     "metadata": {},
     "output_type": "execute_result"
    }
   ],
   "source": [
    "table_tittle_pd"
   ]
  },
  {
   "cell_type": "code",
   "execution_count": 16,
   "id": "31a85d5d-18b6-4f90-9412-69b51c61a314",
   "metadata": {},
   "outputs": [],
   "source": [
    "rows = table.find_all('tr')\n",
    "row_data = []"
   ]
  },
  {
   "cell_type": "code",
   "execution_count": null,
   "id": "fec4cff9-2dd4-4e9a-814f-1d2f86d6ef2a",
   "metadata": {},
   "outputs": [],
   "source": []
  },
  {
   "cell_type": "code",
   "execution_count": 20,
   "id": "f23a8846-cd9d-4582-8170-6b22a421adb1",
   "metadata": {},
   "outputs": [],
   "source": [
    "for row in rows:\n",
    "    cells = row.find_all('td')\n",
    "    cell_text = [cell.text.strip() for cell in cells]\n",
    "    if cell_text:\n",
    "        row_data.append(cell_text)"
   ]
  },
  {
   "cell_type": "code",
   "execution_count": 26,
   "id": "687ce802-5792-4aee-9d92-27d251381bfa",
   "metadata": {},
   "outputs": [],
   "source": [
    "for row in row_data:\n",
    "    if len(row) == len(table_tittle) and len(table_tittle_pd) < 9:\n",
    "        if row not in table_tittle_pd.values.tolist():\n",
    "            table_tittle_pd.loc[len(table_tittle_pd)] = row\n"
   ]
  },
  {
   "cell_type": "code",
   "execution_count": 28,
   "id": "46d52f82-9634-48f0-8e1a-df2f4118e29b",
   "metadata": {},
   "outputs": [
    {
     "name": "stdout",
     "output_type": "stream",
     "text": [
      "  First name   Last name Age Gender\n",
      "0       Tinu    Elejogun  14      F\n",
      "1     Javier      Zapata  28      M\n",
      "2       Lily   McGarrett  18      F\n",
      "3  Olatunkbo    Chijiaku  22      M\n",
      "4   Adrienne    Anthoula  22      M\n",
      "5     Axelia  Athanasios  22      M\n",
      "6  Jon-Kabat        Zinn  22      M\n",
      "7    Thabang       Mosoa  15      F\n",
      "8      Rhian       Ellis  12      M\n"
     ]
    }
   ],
   "source": [
    "print(table_tittle_pd)"
   ]
  },
  {
   "cell_type": "code",
   "execution_count": 30,
   "id": "0ba211f9-e90d-41cd-b0be-d9490d1809e9",
   "metadata": {},
   "outputs": [
    {
     "data": {
      "text/html": [
       "<div>\n",
       "<style scoped>\n",
       "    .dataframe tbody tr th:only-of-type {\n",
       "        vertical-align: middle;\n",
       "    }\n",
       "\n",
       "    .dataframe tbody tr th {\n",
       "        vertical-align: top;\n",
       "    }\n",
       "\n",
       "    .dataframe thead th {\n",
       "        text-align: right;\n",
       "    }\n",
       "</style>\n",
       "<table border=\"1\" class=\"dataframe\">\n",
       "  <thead>\n",
       "    <tr style=\"text-align: right;\">\n",
       "      <th></th>\n",
       "      <th>First name</th>\n",
       "      <th>Last name</th>\n",
       "      <th>Age</th>\n",
       "      <th>Gender</th>\n",
       "    </tr>\n",
       "  </thead>\n",
       "  <tbody>\n",
       "    <tr>\n",
       "      <th>0</th>\n",
       "      <td>Tinu</td>\n",
       "      <td>Elejogun</td>\n",
       "      <td>14</td>\n",
       "      <td>F</td>\n",
       "    </tr>\n",
       "    <tr>\n",
       "      <th>1</th>\n",
       "      <td>Javier</td>\n",
       "      <td>Zapata</td>\n",
       "      <td>28</td>\n",
       "      <td>M</td>\n",
       "    </tr>\n",
       "    <tr>\n",
       "      <th>2</th>\n",
       "      <td>Lily</td>\n",
       "      <td>McGarrett</td>\n",
       "      <td>18</td>\n",
       "      <td>F</td>\n",
       "    </tr>\n",
       "    <tr>\n",
       "      <th>3</th>\n",
       "      <td>Olatunkbo</td>\n",
       "      <td>Chijiaku</td>\n",
       "      <td>22</td>\n",
       "      <td>M</td>\n",
       "    </tr>\n",
       "    <tr>\n",
       "      <th>4</th>\n",
       "      <td>Adrienne</td>\n",
       "      <td>Anthoula</td>\n",
       "      <td>22</td>\n",
       "      <td>M</td>\n",
       "    </tr>\n",
       "    <tr>\n",
       "      <th>5</th>\n",
       "      <td>Axelia</td>\n",
       "      <td>Athanasios</td>\n",
       "      <td>22</td>\n",
       "      <td>M</td>\n",
       "    </tr>\n",
       "    <tr>\n",
       "      <th>6</th>\n",
       "      <td>Jon-Kabat</td>\n",
       "      <td>Zinn</td>\n",
       "      <td>22</td>\n",
       "      <td>M</td>\n",
       "    </tr>\n",
       "    <tr>\n",
       "      <th>7</th>\n",
       "      <td>Thabang</td>\n",
       "      <td>Mosoa</td>\n",
       "      <td>15</td>\n",
       "      <td>F</td>\n",
       "    </tr>\n",
       "    <tr>\n",
       "      <th>8</th>\n",
       "      <td>Rhian</td>\n",
       "      <td>Ellis</td>\n",
       "      <td>12</td>\n",
       "      <td>M</td>\n",
       "    </tr>\n",
       "  </tbody>\n",
       "</table>\n",
       "</div>"
      ],
      "text/plain": [
       "  First name   Last name Age Gender\n",
       "0       Tinu    Elejogun  14      F\n",
       "1     Javier      Zapata  28      M\n",
       "2       Lily   McGarrett  18      F\n",
       "3  Olatunkbo    Chijiaku  22      M\n",
       "4   Adrienne    Anthoula  22      M\n",
       "5     Axelia  Athanasios  22      M\n",
       "6  Jon-Kabat        Zinn  22      M\n",
       "7    Thabang       Mosoa  15      F\n",
       "8      Rhian       Ellis  12      M"
      ]
     },
     "execution_count": 30,
     "metadata": {},
     "output_type": "execute_result"
    }
   ],
   "source": [
    "table_tittle_pd"
   ]
  },
  {
   "cell_type": "markdown",
   "id": "0b55bb13-feac-4140-b430-9efbebc7d353",
   "metadata": {},
   "source": [
    "###### No duplicates anymore"
   ]
  },
  {
   "cell_type": "code",
   "execution_count": null,
   "id": "5f9aadda-39ce-4a1b-b7af-f152356375ac",
   "metadata": {},
   "outputs": [],
   "source": []
  }
 ],
 "metadata": {
  "kernelspec": {
   "display_name": "anaconda-2024.02-py310",
   "language": "python",
   "name": "conda-env-anaconda-2024.02-py310-py"
  },
  "language_info": {
   "codemirror_mode": {
    "name": "ipython",
    "version": 3
   },
   "file_extension": ".py",
   "mimetype": "text/x-python",
   "name": "python",
   "nbconvert_exporter": "python",
   "pygments_lexer": "ipython3",
   "version": "3.10.14"
  }
 },
 "nbformat": 4,
 "nbformat_minor": 5
}
